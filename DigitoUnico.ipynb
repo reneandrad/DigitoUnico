{
  "nbformat": 4,
  "nbformat_minor": 0,
  "metadata": {
    "colab": {
      "name": "DigitoUnico.ipynb",
      "provenance": []
    },
    "kernelspec": {
      "name": "python3",
      "display_name": "Python 3"
    }
  },
  "cells": [
    {
      "cell_type": "code",
      "metadata": {
        "id": "E0rdGH53m7jK"
      },
      "source": [
        "def digitoUnico (n,k):\n",
        "    if (n>=1 and n<= 10 **1000000) and (k>=1 and k<= 10 **5):\n",
        "        nk =str(n) * k\n",
        "        soma = int(sum(int(i) for i in str(nk)))\n",
        "    \n",
        "        if len(str(soma))==1:\n",
        "            return soma\n",
        "    \n",
        "        else:\n",
        "            return digitoUnico (soma,1)\n",
        "    \n",
        "    else:\n",
        "        print(\"Número fora dos paramentros\")\n"
      ],
      "execution_count": null,
      "outputs": []
    },
    {
      "cell_type": "code",
      "metadata": {
        "id": "tqTG3q9CnJBr"
      },
      "source": [
        "n = int(input(\"Digite o número que deseja calcular o Dígito Único: \"))"
      ],
      "execution_count": null,
      "outputs": []
    },
    {
      "cell_type": "code",
      "metadata": {
        "id": "Ykp5OOlNnKh7"
      },
      "source": [
        "k = int(input(\"Informe a quantidade de repetições do número: \"))"
      ],
      "execution_count": null,
      "outputs": []
    },
    {
      "cell_type": "code",
      "metadata": {
        "id": "l5tmsWklnNsL"
      },
      "source": [
        "print(\"O Dígito Único de\", n, \"em\",k,\"repetições é:\", digitoUnico(n,k))"
      ],
      "execution_count": null,
      "outputs": []
    }
  ]
}