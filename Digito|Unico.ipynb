{
  "nbformat": 4,
  "nbformat_minor": 0,
  "metadata": {
    "colab": {
      "name": "Digito|Unico.ipynb",
      "provenance": [],
      "authorship_tag": "ABX9TyOCwMM0UckR9Xux5P0ocsjU",
      "include_colab_link": true
    },
    "kernelspec": {
      "name": "python3",
      "display_name": "Python 3"
    }
  },
  "cells": [
    {
      "cell_type": "markdown",
      "metadata": {
        "id": "view-in-github",
        "colab_type": "text"
      },
      "source": [
        "<a href=\"https://colab.research.google.com/github/reneandrad/DigitoUnico/blob/main/Digito%7CUnico.ipynb\" target=\"_parent\"><img src=\"https://colab.research.google.com/assets/colab-badge.svg\" alt=\"Open In Colab\"/></a>"
      ]
    },
    {
      "cell_type": "code",
      "metadata": {
        "id": "E0rdGH53m7jK"
      },
      "source": [
        "def digitoUnico (n,k):\n",
        "    if (n>=1 and n<= 10 **1000000) and (k>=1 and k<= 10 **5):\n",
        "        nk =str(n) * k\n",
        "        soma = int(sum(int(i) for i in str(nk)))\n",
        "    \n",
        "        if len(str(soma))==1:\n",
        "            return soma\n",
        "    \n",
        "        else:\n",
        "            return digitoUnico (soma,1)\n",
        "    \n",
        "    else:\n",
        "        print(\"Número fora dos paramentros\")\n"
      ],
      "execution_count": 2,
      "outputs": []
    },
    {
      "cell_type": "code",
      "metadata": {
        "colab": {
          "base_uri": "https://localhost:8080/"
        },
        "id": "tqTG3q9CnJBr",
        "outputId": "91e25c98-365c-4bcc-a1ed-1183fc7aef8d"
      },
      "source": [
        "n = int(input(\"Digite o número que deseja calcular o Dígito Único: \"))"
      ],
      "execution_count": 3,
      "outputs": [
        {
          "output_type": "stream",
          "text": [
            "Digite o número que deseja calcular o Dígito Único: 7895\n"
          ],
          "name": "stdout"
        }
      ]
    },
    {
      "cell_type": "code",
      "metadata": {
        "colab": {
          "base_uri": "https://localhost:8080/"
        },
        "id": "Ykp5OOlNnKh7",
        "outputId": "6b782661-83ee-4733-d7ed-7fed0144ccd8"
      },
      "source": [
        "k = int(input(\"Informe a quantidade de repetições do número: \"))"
      ],
      "execution_count": 4,
      "outputs": [
        {
          "output_type": "stream",
          "text": [
            "Informe a quantidade de repetições do número: 4\n"
          ],
          "name": "stdout"
        }
      ]
    },
    {
      "cell_type": "code",
      "metadata": {
        "colab": {
          "base_uri": "https://localhost:8080/"
        },
        "id": "l5tmsWklnNsL",
        "outputId": "f63fad6d-3e6e-4cb4-b77f-0dadd169d3d4"
      },
      "source": [
        "print(\"O Dígito Único de\", n, \"em\",k,\"repetições é:\", digitoUnico(n,k))"
      ],
      "execution_count": 5,
      "outputs": [
        {
          "output_type": "stream",
          "text": [
            "O Dígito Único de 7895 em 4 repetições é: 8\n"
          ],
          "name": "stdout"
        }
      ]
    }
  ]
}